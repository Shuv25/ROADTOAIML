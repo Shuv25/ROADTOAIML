{
 "cells": [
  {
   "cell_type": "code",
   "execution_count": 17,
   "metadata": {},
   "outputs": [],
   "source": [
    "import pandas as pd\n",
    "import numpy as np"
   ]
  },
  {
   "cell_type": "code",
   "execution_count": 18,
   "metadata": {},
   "outputs": [],
   "source": [
    "degree_types = ['B.Tech', 'M.Tech', 'BCA', 'MCA', 'B.Sc', 'M.Sc', 'PhD']\n",
    "specializations = ['Data Science', 'Web Development', 'Cloud Computing', 'AI/ML', 'Cybersecurity','App Development' ,'None']\n",
    "communication_level = np.arange(1, 6)\n",
    "technical_skill_level = np.arange(1, 6)"
   ]
  },
  {
   "cell_type": "code",
   "execution_count": 19,
   "metadata": {},
   "outputs": [],
   "source": [
    "np.random.seed(42)\n",
    "num_samples = 10000"
   ]
  },
  {
   "cell_type": "code",
   "execution_count": 20,
   "metadata": {},
   "outputs": [],
   "source": [
    "data = {\n",
    "    'degree_type': np.random.choice(degree_types, num_samples),\n",
    "    'technical_skills': np.random.randint(1, 21, num_samples),\n",
    "    'soft_skills': np.random.randint(1, 11, num_samples),\n",
    "    'cgpa': np.round(np.random.uniform(5.0, 10.0, num_samples), 2),\n",
    "    'projects': np.random.randint(0, 11, num_samples),\n",
    "    'internships': np.random.randint(0, 6, num_samples),\n",
    "    'communication_level': np.random.choice(communication_level, num_samples),\n",
    "    'technical_skill_level': np.random.choice(technical_skill_level, num_samples),\n",
    "    'years_of_experience': np.random.randint(0, 6, num_samples),\n",
    "    'specialization': np.random.choice(specializations, num_samples)\n",
    "}"
   ]
  },
  {
   "cell_type": "code",
   "execution_count": 21,
   "metadata": {},
   "outputs": [],
   "source": [
    "df = pd.DataFrame(data)"
   ]
  },
  {
   "cell_type": "code",
   "execution_count": 22,
   "metadata": {},
   "outputs": [],
   "source": [
    "def calculate_package(row):\n",
    "    base = np.random.uniform(3, 8)  # Base package between 3 to 8 LPA\n",
    "    cgpa_weight = row['cgpa'] * 0.6  # CGPA has a significant weight\n",
    "    tech_skill_weight = row['technical_skill_level'] * 0.4  # Tech skill level matters\n",
    "    internship_bonus = row['internships'] * 0.5  # Each internship adds some value\n",
    "    project_bonus = row['projects'] * 0.2  # Projects matter but less than internships\n",
    "    communication_bonus = row['communication_level'] * 0.3\n",
    "    specialization_bonus = 1 if row['specialization'] != 'None' else 0\n",
    "    \n",
    "    total_package = base + cgpa_weight + tech_skill_weight + internship_bonus + project_bonus + communication_bonus + specialization_bonus\n",
    "    return np.round(total_package, 2)"
   ]
  },
  {
   "cell_type": "code",
   "execution_count": 23,
   "metadata": {},
   "outputs": [],
   "source": [
    "df['package'] = df.apply(calculate_package, axis=1)"
   ]
  },
  {
   "cell_type": "code",
   "execution_count": 24,
   "metadata": {},
   "outputs": [
    {
     "name": "stdout",
     "output_type": "stream",
     "text": [
      "  degree_type  technical_skills  soft_skills  cgpa  projects  internships  \\\n",
      "0         PhD                 2            8  7.53         4            0   \n",
      "1         MCA                 7           10  8.22         7            4   \n",
      "2        B.Sc                 9            9  9.55         0            1   \n",
      "3         PhD                10            1  8.54         1            2   \n",
      "4         BCA                18            1  5.23         6            2   \n",
      "\n",
      "   communication_level  technical_skill_level  years_of_experience  \\\n",
      "0                    5                      3                    2   \n",
      "1                    2                      4                    2   \n",
      "2                    5                      3                    1   \n",
      "3                    2                      5                    3   \n",
      "4                    5                      5                    2   \n",
      "\n",
      "    specialization  package  \n",
      "0  App Development    13.82  \n",
      "1  App Development    19.18  \n",
      "2    Cybersecurity    13.19  \n",
      "3    Cybersecurity    16.68  \n",
      "4     Data Science    13.73  \n"
     ]
    }
   ],
   "source": [
    "print(df.head())"
   ]
  },
  {
   "cell_type": "code",
   "execution_count": 25,
   "metadata": {},
   "outputs": [],
   "source": [
    "# Save to CSV\n",
    "df.to_csv('candidate_salary_data.csv', index=False)"
   ]
  }
 ],
 "metadata": {
  "kernelspec": {
   "display_name": "Python 3",
   "language": "python",
   "name": "python3"
  },
  "language_info": {
   "codemirror_mode": {
    "name": "ipython",
    "version": 3
   },
   "file_extension": ".py",
   "mimetype": "text/x-python",
   "name": "python",
   "nbconvert_exporter": "python",
   "pygments_lexer": "ipython3",
   "version": "3.11.0rc2"
  }
 },
 "nbformat": 4,
 "nbformat_minor": 2
}
