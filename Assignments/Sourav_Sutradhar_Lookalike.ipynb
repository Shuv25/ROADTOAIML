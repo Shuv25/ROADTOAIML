{
 "cells": [
  {
   "cell_type": "code",
   "execution_count": 1,
   "metadata": {},
   "outputs": [],
   "source": [
    "import pandas as pd\n",
    "import numpy as np"
   ]
  },
  {
   "cell_type": "code",
   "execution_count": 18,
   "metadata": {},
   "outputs": [],
   "source": [
    "customers = pd.read_csv('Customers.csv')\n",
    "products = pd.read_csv('Products.csv')\n",
    "transactions = pd.read_csv('Transactions.csv')"
   ]
  },
  {
   "cell_type": "code",
   "execution_count": 19,
   "metadata": {},
   "outputs": [],
   "source": [
    "merged_data = transactions.merge(customers, on='CustomerID', how='left')\n",
    "merged_data = merged_data.merge(products, on='ProductID', how='left')"
   ]
  },
  {
   "cell_type": "code",
   "execution_count": 20,
   "metadata": {},
   "outputs": [
    {
     "data": {
      "text/html": [
       "<div>\n",
       "<style scoped>\n",
       "    .dataframe tbody tr th:only-of-type {\n",
       "        vertical-align: middle;\n",
       "    }\n",
       "\n",
       "    .dataframe tbody tr th {\n",
       "        vertical-align: top;\n",
       "    }\n",
       "\n",
       "    .dataframe thead th {\n",
       "        text-align: right;\n",
       "    }\n",
       "</style>\n",
       "<table border=\"1\" class=\"dataframe\">\n",
       "  <thead>\n",
       "    <tr style=\"text-align: right;\">\n",
       "      <th></th>\n",
       "      <th>TransactionID</th>\n",
       "      <th>CustomerID</th>\n",
       "      <th>ProductID</th>\n",
       "      <th>TransactionDate</th>\n",
       "      <th>Quantity</th>\n",
       "      <th>TotalValue</th>\n",
       "      <th>Price_x</th>\n",
       "      <th>CustomerName</th>\n",
       "      <th>Region</th>\n",
       "      <th>SignupDate</th>\n",
       "      <th>ProductName</th>\n",
       "      <th>Category</th>\n",
       "      <th>Price_y</th>\n",
       "    </tr>\n",
       "  </thead>\n",
       "  <tbody>\n",
       "    <tr>\n",
       "      <th>0</th>\n",
       "      <td>T00001</td>\n",
       "      <td>C0199</td>\n",
       "      <td>P067</td>\n",
       "      <td>2024-08-25 12:38:23</td>\n",
       "      <td>1</td>\n",
       "      <td>300.68</td>\n",
       "      <td>300.68</td>\n",
       "      <td>Andrea Jenkins</td>\n",
       "      <td>Europe</td>\n",
       "      <td>2022-12-03</td>\n",
       "      <td>ComfortLiving Bluetooth Speaker</td>\n",
       "      <td>Electronics</td>\n",
       "      <td>300.68</td>\n",
       "    </tr>\n",
       "    <tr>\n",
       "      <th>1</th>\n",
       "      <td>T00112</td>\n",
       "      <td>C0146</td>\n",
       "      <td>P067</td>\n",
       "      <td>2024-05-27 22:23:54</td>\n",
       "      <td>1</td>\n",
       "      <td>300.68</td>\n",
       "      <td>300.68</td>\n",
       "      <td>Brittany Harvey</td>\n",
       "      <td>Asia</td>\n",
       "      <td>2024-09-04</td>\n",
       "      <td>ComfortLiving Bluetooth Speaker</td>\n",
       "      <td>Electronics</td>\n",
       "      <td>300.68</td>\n",
       "    </tr>\n",
       "    <tr>\n",
       "      <th>2</th>\n",
       "      <td>T00166</td>\n",
       "      <td>C0127</td>\n",
       "      <td>P067</td>\n",
       "      <td>2024-04-25 07:38:55</td>\n",
       "      <td>1</td>\n",
       "      <td>300.68</td>\n",
       "      <td>300.68</td>\n",
       "      <td>Kathryn Stevens</td>\n",
       "      <td>Europe</td>\n",
       "      <td>2024-04-04</td>\n",
       "      <td>ComfortLiving Bluetooth Speaker</td>\n",
       "      <td>Electronics</td>\n",
       "      <td>300.68</td>\n",
       "    </tr>\n",
       "  </tbody>\n",
       "</table>\n",
       "</div>"
      ],
      "text/plain": [
       "  TransactionID CustomerID ProductID      TransactionDate  Quantity  \\\n",
       "0        T00001      C0199      P067  2024-08-25 12:38:23         1   \n",
       "1        T00112      C0146      P067  2024-05-27 22:23:54         1   \n",
       "2        T00166      C0127      P067  2024-04-25 07:38:55         1   \n",
       "\n",
       "   TotalValue  Price_x     CustomerName  Region  SignupDate  \\\n",
       "0      300.68   300.68   Andrea Jenkins  Europe  2022-12-03   \n",
       "1      300.68   300.68  Brittany Harvey    Asia  2024-09-04   \n",
       "2      300.68   300.68  Kathryn Stevens  Europe  2024-04-04   \n",
       "\n",
       "                       ProductName     Category  Price_y  \n",
       "0  ComfortLiving Bluetooth Speaker  Electronics   300.68  \n",
       "1  ComfortLiving Bluetooth Speaker  Electronics   300.68  \n",
       "2  ComfortLiving Bluetooth Speaker  Electronics   300.68  "
      ]
     },
     "execution_count": 20,
     "metadata": {},
     "output_type": "execute_result"
    }
   ],
   "source": [
    "merged_data.head(3)"
   ]
  },
  {
   "cell_type": "code",
   "execution_count": 21,
   "metadata": {},
   "outputs": [],
   "source": [
    "customers['SignupDate'] = pd.to_datetime(customers['SignupDate'])\n",
    "customers['YearsSinceSignup'] = (pd.to_datetime('today') - customers['SignupDate']).dt.days / 365"
   ]
  },
  {
   "cell_type": "code",
   "execution_count": 22,
   "metadata": {},
   "outputs": [],
   "source": [
    "customer_transactions = merged_data.groupby('CustomerID').agg({\n",
    "    'TotalValue': 'sum',\n",
    "    'Quantity': 'sum',\n",
    "    'ProductID': lambda x: list(set(x)),\n",
    "    'Category': lambda x: list(set(x)),\n",
    "}).reset_index()"
   ]
  },
  {
   "cell_type": "code",
   "execution_count": 23,
   "metadata": {},
   "outputs": [],
   "source": [
    "region_dummies = pd.get_dummies(customers['Region'], prefix='Region')\n",
    "customer_profiles = pd.concat([customers[['CustomerID', 'YearsSinceSignup']], region_dummies], axis=1)"
   ]
  },
  {
   "cell_type": "code",
   "execution_count": 24,
   "metadata": {},
   "outputs": [],
   "source": [
    "final_data = customer_transactions.merge(customer_profiles, on='CustomerID', how='left')"
   ]
  },
  {
   "cell_type": "code",
   "execution_count": 25,
   "metadata": {},
   "outputs": [
    {
     "data": {
      "text/html": [
       "<div>\n",
       "<style scoped>\n",
       "    .dataframe tbody tr th:only-of-type {\n",
       "        vertical-align: middle;\n",
       "    }\n",
       "\n",
       "    .dataframe tbody tr th {\n",
       "        vertical-align: top;\n",
       "    }\n",
       "\n",
       "    .dataframe thead th {\n",
       "        text-align: right;\n",
       "    }\n",
       "</style>\n",
       "<table border=\"1\" class=\"dataframe\">\n",
       "  <thead>\n",
       "    <tr style=\"text-align: right;\">\n",
       "      <th></th>\n",
       "      <th>CustomerID</th>\n",
       "      <th>TotalValue</th>\n",
       "      <th>Quantity</th>\n",
       "      <th>ProductID</th>\n",
       "      <th>Category</th>\n",
       "      <th>YearsSinceSignup</th>\n",
       "      <th>Region_Asia</th>\n",
       "      <th>Region_Europe</th>\n",
       "      <th>Region_North America</th>\n",
       "      <th>Region_South America</th>\n",
       "    </tr>\n",
       "  </thead>\n",
       "  <tbody>\n",
       "    <tr>\n",
       "      <th>0</th>\n",
       "      <td>C0001</td>\n",
       "      <td>3354.52</td>\n",
       "      <td>12</td>\n",
       "      <td>[P054, P083, P096, P029, P022]</td>\n",
       "      <td>[Electronics, Books, Home Decor]</td>\n",
       "      <td>2.553425</td>\n",
       "      <td>False</td>\n",
       "      <td>False</td>\n",
       "      <td>False</td>\n",
       "      <td>True</td>\n",
       "    </tr>\n",
       "    <tr>\n",
       "      <th>1</th>\n",
       "      <td>C0002</td>\n",
       "      <td>1862.74</td>\n",
       "      <td>10</td>\n",
       "      <td>[P095, P071, P004, P019]</td>\n",
       "      <td>[Clothing, Home Decor]</td>\n",
       "      <td>2.956164</td>\n",
       "      <td>True</td>\n",
       "      <td>False</td>\n",
       "      <td>False</td>\n",
       "      <td>False</td>\n",
       "    </tr>\n",
       "    <tr>\n",
       "      <th>2</th>\n",
       "      <td>C0003</td>\n",
       "      <td>2725.38</td>\n",
       "      <td>14</td>\n",
       "      <td>[P006, P002, P035, P025]</td>\n",
       "      <td>[Electronics, Clothing, Home Decor]</td>\n",
       "      <td>0.893151</td>\n",
       "      <td>False</td>\n",
       "      <td>False</td>\n",
       "      <td>False</td>\n",
       "      <td>True</td>\n",
       "    </tr>\n",
       "  </tbody>\n",
       "</table>\n",
       "</div>"
      ],
      "text/plain": [
       "  CustomerID  TotalValue  Quantity                       ProductID  \\\n",
       "0      C0001     3354.52        12  [P054, P083, P096, P029, P022]   \n",
       "1      C0002     1862.74        10        [P095, P071, P004, P019]   \n",
       "2      C0003     2725.38        14        [P006, P002, P035, P025]   \n",
       "\n",
       "                              Category  YearsSinceSignup  Region_Asia  \\\n",
       "0     [Electronics, Books, Home Decor]          2.553425        False   \n",
       "1               [Clothing, Home Decor]          2.956164         True   \n",
       "2  [Electronics, Clothing, Home Decor]          0.893151        False   \n",
       "\n",
       "   Region_Europe  Region_North America  Region_South America  \n",
       "0          False                 False                  True  \n",
       "1          False                 False                 False  \n",
       "2          False                 False                  True  "
      ]
     },
     "execution_count": 25,
     "metadata": {},
     "output_type": "execute_result"
    }
   ],
   "source": [
    "final_data.head(3)"
   ]
  },
  {
   "cell_type": "code",
   "execution_count": 11,
   "metadata": {},
   "outputs": [],
   "source": [
    "from sklearn.preprocessing import StandardScaler"
   ]
  },
  {
   "cell_type": "code",
   "execution_count": 26,
   "metadata": {},
   "outputs": [],
   "source": [
    "scaler = StandardScaler()\n",
    "final_data[['TotalValue', 'Quantity', 'YearsSinceSignup']] = scaler.fit_transform(final_data[['TotalValue', 'Quantity', 'YearsSinceSignup']])"
   ]
  },
  {
   "cell_type": "code",
   "execution_count": 27,
   "metadata": {},
   "outputs": [
    {
     "data": {
      "text/html": [
       "<div>\n",
       "<style scoped>\n",
       "    .dataframe tbody tr th:only-of-type {\n",
       "        vertical-align: middle;\n",
       "    }\n",
       "\n",
       "    .dataframe tbody tr th {\n",
       "        vertical-align: top;\n",
       "    }\n",
       "\n",
       "    .dataframe thead th {\n",
       "        text-align: right;\n",
       "    }\n",
       "</style>\n",
       "<table border=\"1\" class=\"dataframe\">\n",
       "  <thead>\n",
       "    <tr style=\"text-align: right;\">\n",
       "      <th></th>\n",
       "      <th>CustomerID</th>\n",
       "      <th>TotalValue</th>\n",
       "      <th>Quantity</th>\n",
       "      <th>ProductID</th>\n",
       "      <th>Category</th>\n",
       "      <th>YearsSinceSignup</th>\n",
       "      <th>Region_Asia</th>\n",
       "      <th>Region_Europe</th>\n",
       "      <th>Region_North America</th>\n",
       "      <th>Region_South America</th>\n",
       "    </tr>\n",
       "  </thead>\n",
       "  <tbody>\n",
       "    <tr>\n",
       "      <th>0</th>\n",
       "      <td>C0001</td>\n",
       "      <td>-0.061701</td>\n",
       "      <td>-0.122033</td>\n",
       "      <td>[P054, P083, P096, P029, P022]</td>\n",
       "      <td>[Electronics, Books, Home Decor]</td>\n",
       "      <td>1.148752</td>\n",
       "      <td>False</td>\n",
       "      <td>False</td>\n",
       "      <td>False</td>\n",
       "      <td>True</td>\n",
       "    </tr>\n",
       "    <tr>\n",
       "      <th>1</th>\n",
       "      <td>C0002</td>\n",
       "      <td>-0.877744</td>\n",
       "      <td>-0.448000</td>\n",
       "      <td>[P095, P071, P004, P019]</td>\n",
       "      <td>[Clothing, Home Decor]</td>\n",
       "      <td>1.600431</td>\n",
       "      <td>True</td>\n",
       "      <td>False</td>\n",
       "      <td>False</td>\n",
       "      <td>False</td>\n",
       "    </tr>\n",
       "    <tr>\n",
       "      <th>2</th>\n",
       "      <td>C0003</td>\n",
       "      <td>-0.405857</td>\n",
       "      <td>0.203934</td>\n",
       "      <td>[P006, P002, P035, P025]</td>\n",
       "      <td>[Electronics, Clothing, Home Decor]</td>\n",
       "      <td>-0.713270</td>\n",
       "      <td>False</td>\n",
       "      <td>False</td>\n",
       "      <td>False</td>\n",
       "      <td>True</td>\n",
       "    </tr>\n",
       "  </tbody>\n",
       "</table>\n",
       "</div>"
      ],
      "text/plain": [
       "  CustomerID  TotalValue  Quantity                       ProductID  \\\n",
       "0      C0001   -0.061701 -0.122033  [P054, P083, P096, P029, P022]   \n",
       "1      C0002   -0.877744 -0.448000        [P095, P071, P004, P019]   \n",
       "2      C0003   -0.405857  0.203934        [P006, P002, P035, P025]   \n",
       "\n",
       "                              Category  YearsSinceSignup  Region_Asia  \\\n",
       "0     [Electronics, Books, Home Decor]          1.148752        False   \n",
       "1               [Clothing, Home Decor]          1.600431         True   \n",
       "2  [Electronics, Clothing, Home Decor]         -0.713270        False   \n",
       "\n",
       "   Region_Europe  Region_North America  Region_South America  \n",
       "0          False                 False                  True  \n",
       "1          False                 False                 False  \n",
       "2          False                 False                  True  "
      ]
     },
     "execution_count": 27,
     "metadata": {},
     "output_type": "execute_result"
    }
   ],
   "source": [
    "final_data.head(3)"
   ]
  },
  {
   "cell_type": "code",
   "execution_count": 14,
   "metadata": {},
   "outputs": [],
   "source": [
    "from sklearn.metrics.pairwise import cosine_similarity"
   ]
  },
  {
   "cell_type": "code",
   "execution_count": 31,
   "metadata": {},
   "outputs": [],
   "source": [
    "def calculate_similarity(customer_data):\n",
    "    transaction_features = customer_data[['TotalValue', 'Quantity', 'YearsSinceSignup']]\n",
    "    \n",
    "    region_features = customer_data.drop(columns=['CustomerID', 'TotalValue', 'Quantity', 'YearsSinceSignup'])\n",
    "\n",
    "    for column in region_features.columns:\n",
    "        if region_features[column].apply(lambda x: isinstance(x, list)).any():\n",
    "            region_features[column] = region_features[column].apply(lambda x: str(x) if isinstance(x, list) else x)\n",
    "\n",
    "    region_features = pd.get_dummies(region_features, drop_first=True)\n",
    "\n",
    "    region_similarity = cosine_similarity(region_features)\n",
    "\n",
    "    transaction_similarity = cosine_similarity(transaction_features)\n",
    "\n",
    "    final_similarity = 0.7 * region_similarity + 0.3 * transaction_similarity\n",
    "\n",
    "    return final_similarity\n"
   ]
  },
  {
   "cell_type": "code",
   "execution_count": 29,
   "metadata": {},
   "outputs": [],
   "source": [
    "lookalike_results = {}"
   ]
  },
  {
   "cell_type": "code",
   "execution_count": 32,
   "metadata": {},
   "outputs": [],
   "source": [
    "for i in range(len(final_data)):\n",
    "    customer_id = final_data.iloc[i]['CustomerID']\n",
    "    \n",
    "    temp_data = final_data.drop(i)\n",
    "    \n",
    "    similarity_scores = calculate_similarity(pd.concat([final_data.iloc[i:i+1], temp_data], axis=0))\n",
    "    \n",
    "    top_similarities = np.argsort(similarity_scores[0])[-4:-1]  \n",
    "    top_customers = final_data.iloc[top_similarities]['CustomerID'].values\n",
    "    top_scores = similarity_scores[0][top_similarities]\n",
    "   \n",
    "    lookalike_results[customer_id] = list(zip(top_customers, top_scores))"
   ]
  },
  {
   "cell_type": "code",
   "execution_count": 33,
   "metadata": {},
   "outputs": [],
   "source": [
    "lookalike_df = pd.DataFrame(lookalike_results.items(), columns=['CustomerID', 'Lookalikes'])\n",
    "lookalike_df.to_csv('Lookalike.csv', index=False)"
   ]
  }
 ],
 "metadata": {
  "kernelspec": {
   "display_name": "Python 3",
   "language": "python",
   "name": "python3"
  },
  "language_info": {
   "codemirror_mode": {
    "name": "ipython",
    "version": 3
   },
   "file_extension": ".py",
   "mimetype": "text/x-python",
   "name": "python",
   "nbconvert_exporter": "python",
   "pygments_lexer": "ipython3",
   "version": "3.11.0"
  }
 },
 "nbformat": 4,
 "nbformat_minor": 2
}
